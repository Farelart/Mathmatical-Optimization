{
 "cells": [
  {
   "cell_type": "markdown",
   "id": "c08bba9c-fdbb-448c-88e8-9c8f3fa965f4",
   "metadata": {},
   "source": [
    "# 1. Creating the data(weights and values)"
   ]
  },
  {
   "cell_type": "code",
   "execution_count": 1,
   "id": "6942b2e3-49fd-417c-af00-ce274afb2ffb",
   "metadata": {},
   "outputs": [],
   "source": [
    "w = [4,2,5,4,5,1,3,5]\n",
    "v = [10,5,18,12,15,1,2,8]\n",
    "C = 15\n",
    "N = len(w)"
   ]
  },
  {
   "cell_type": "markdown",
   "id": "dc9abc5f-859b-4780-90be-858017967ce2",
   "metadata": {},
   "source": [
    "# 2. Importing docplex package"
   ]
  },
  {
   "cell_type": "code",
   "execution_count": 2,
   "id": "5728e0a7-6a66-4005-8512-ee2a2a445113",
   "metadata": {},
   "outputs": [],
   "source": [
    "from docplex.mp.model import Model"
   ]
  },
  {
   "cell_type": "markdown",
   "id": "6c86eb70-7638-4927-95cc-0dce10f570e4",
   "metadata": {},
   "source": [
    "# 3. Create an optimization model"
   ]
  },
  {
   "cell_type": "code",
   "execution_count": 3,
   "id": "76ca004c-bb57-4aa3-8b42-f46a01fd019d",
   "metadata": {},
   "outputs": [],
   "source": [
    "knapsack_model = Model('knapsack')"
   ]
  },
  {
   "cell_type": "markdown",
   "id": "411d6b16-ae5e-435a-ad52-7564022bfcd7",
   "metadata": {},
   "source": [
    "# 4. Add multiple binary decision variables"
   ]
  },
  {
   "cell_type": "code",
   "execution_count": 4,
   "id": "39edcb74-ff58-4bd8-b2e1-be4b6bc2dfdd",
   "metadata": {},
   "outputs": [],
   "source": [
    "x = knapsack_model.binary_var_list(N, name=\"x\")"
   ]
  },
  {
   "cell_type": "markdown",
   "id": "3013b971-13e3-4614-a9c7-971aa383207f",
   "metadata": {},
   "source": [
    "# 5. Add the constraints"
   ]
  },
  {
   "cell_type": "code",
   "execution_count": 5,
   "id": "201734a8-64c1-4ff0-a8d3-d1ebe7b1fc48",
   "metadata": {},
   "outputs": [
    {
     "data": {
      "text/plain": [
       "docplex.mp.LinearConstraint[](4x_0+2x_1+5x_2+4x_3+5x_4+x_5+3x_6+5x_7,LE,15)"
      ]
     },
     "execution_count": 5,
     "metadata": {},
     "output_type": "execute_result"
    }
   ],
   "source": [
    "knapsack_model.add_constraint(sum(w[i]*x[i] for i in range(N)) <= C)"
   ]
  },
  {
   "cell_type": "markdown",
   "id": "ae88550b-7c03-4dbd-9b37-194e35ec14bd",
   "metadata": {},
   "source": [
    "# 6. Define the objective function"
   ]
  },
  {
   "cell_type": "code",
   "execution_count": 6,
   "id": "2db0d4bd-9d98-4180-958c-745394625949",
   "metadata": {},
   "outputs": [
    {
     "name": "stdout",
     "output_type": "stream",
     "text": [
      "Model: knapsack\n",
      " - number of variables: 8\n",
      "   - binary=8, integer=0, continuous=0\n",
      " - number of constraints: 1\n",
      "   - linear=1\n",
      " - parameters: defaults\n",
      " - objective: maximize\n",
      " - problem type is: MILP\n"
     ]
    }
   ],
   "source": [
    "obj_fn = sum(v[i]*x[i] for i in range(N))\n",
    "knapsack_model.set_objective('max', obj_fn)\n",
    "\n",
    "knapsack_model.print_information()"
   ]
  },
  {
   "cell_type": "markdown",
   "id": "a2f049cc-5a6b-492a-9d8b-f05bcbd51adc",
   "metadata": {},
   "source": [
    "# 7. Solve the model and output the solution"
   ]
  },
  {
   "cell_type": "code",
   "execution_count": 7,
   "id": "32e49a5e-e106-481a-88ed-07847b8e607e",
   "metadata": {},
   "outputs": [
    {
     "name": "stdout",
     "output_type": "stream",
     "text": [
      "Optimization is done. Objective Function Value: 46.00\n"
     ]
    }
   ],
   "source": [
    "knapsack_model.solve()\n",
    "print('Optimization is done. Objective Function Value: %.2f' % knapsack_model.objective_value)"
   ]
  },
  {
   "cell_type": "code",
   "execution_count": 8,
   "id": "429810c9-bb6f-4c96-a0a1-3a935e360db9",
   "metadata": {},
   "outputs": [
    {
     "name": "stdout",
     "output_type": "stream",
     "text": [
      "objective: 46\n",
      "status: OPTIMAL_SOLUTION(2)\n",
      "  x_2=1\n",
      "  x_3=1\n",
      "  x_4=1\n",
      "  x_5=1\n"
     ]
    }
   ],
   "source": [
    "knapsack_model.print_solution()"
   ]
  },
  {
   "cell_type": "code",
   "execution_count": null,
   "id": "18ae1f1e-4cc1-4017-acc1-4e1fc3f682be",
   "metadata": {},
   "outputs": [],
   "source": []
  }
 ],
 "metadata": {
  "kernelspec": {
   "display_name": "Python 3 (ipykernel)",
   "language": "python",
   "name": "python3"
  },
  "language_info": {
   "codemirror_mode": {
    "name": "ipython",
    "version": 3
   },
   "file_extension": ".py",
   "mimetype": "text/x-python",
   "name": "python",
   "nbconvert_exporter": "python",
   "pygments_lexer": "ipython3",
   "version": "3.9.13"
  }
 },
 "nbformat": 4,
 "nbformat_minor": 5
}
