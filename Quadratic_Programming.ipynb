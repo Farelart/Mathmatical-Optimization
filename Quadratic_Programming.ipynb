{
 "cells": [
  {
   "cell_type": "markdown",
   "id": "042c7697-1e41-4788-87ba-36cbddd2c7ff",
   "metadata": {},
   "source": [
    "# 1. Import Package"
   ]
  },
  {
   "cell_type": "code",
   "execution_count": 1,
   "id": "b32ec443-7560-42e0-a91c-5888d48e618f",
   "metadata": {},
   "outputs": [],
   "source": [
    "from docplex.mp.model import Model"
   ]
  },
  {
   "cell_type": "markdown",
   "id": "1b87dc88-ad1b-4614-8c1b-b6838dde4103",
   "metadata": {},
   "source": [
    "# 2. Create a model"
   ]
  },
  {
   "cell_type": "code",
   "execution_count": 2,
   "id": "5c1d4e3e-d421-48eb-9ce9-5ebe70c29339",
   "metadata": {},
   "outputs": [],
   "source": [
    "quadratic_model = Model('quadractic')"
   ]
  },
  {
   "cell_type": "markdown",
   "id": "099c02b4-fe00-44c1-9a7d-d3530ee44e98",
   "metadata": {},
   "source": [
    "# 3. Define decision variables"
   ]
  },
  {
   "cell_type": "code",
   "execution_count": 3,
   "id": "2804ffab-f050-4861-a46e-004024dcdb6a",
   "metadata": {},
   "outputs": [],
   "source": [
    "x = quadratic_model.continuous_var(name = 'x', lb = 0)\n",
    "y = quadratic_model.integer_var(name = 'y', lb = 0)\n",
    "z = quadratic_model.binary_var(name='z')"
   ]
  },
  {
   "cell_type": "markdown",
   "id": "876a0eb1-b46b-41a5-9665-5f36e08ddf9a",
   "metadata": {},
   "source": [
    "# 4. Add constraints"
   ]
  },
  {
   "cell_type": "code",
   "execution_count": 4,
   "id": "c9e8dd17-2e3c-49b9-aaff-c875ed366d25",
   "metadata": {},
   "outputs": [
    {
     "data": {
      "text/plain": [
       "docplex.mp.QuadraticConstraint[](y^2+z^2,LE,5)"
      ]
     },
     "execution_count": 4,
     "metadata": {},
     "output_type": "execute_result"
    }
   ],
   "source": [
    "quadratic_model.add(x**2 >= 1)\n",
    "quadratic_model.add(y**2 >=2)\n",
    "quadratic_model.add(z**2 + y**2 <= 5)"
   ]
  },
  {
   "cell_type": "markdown",
   "id": "9c7acfa0-d2da-4442-862b-6426428b0210",
   "metadata": {},
   "source": [
    "# 5. Define the objective function"
   ]
  },
  {
   "cell_type": "code",
   "execution_count": 5,
   "id": "cd10057f-dea8-423e-b1e2-f0e797104474",
   "metadata": {},
   "outputs": [],
   "source": [
    "obj_fn = x**2 + y**2 + z**2"
   ]
  },
  {
   "cell_type": "markdown",
   "id": "643bea9a-2dd1-4ea0-9e50-b0c31b1c4baf",
   "metadata": {},
   "source": [
    "# 6. Solve the model and output the result"
   ]
  },
  {
   "cell_type": "code",
   "execution_count": 6,
   "id": "0f6d1585-da8a-4a2d-80e9-3888a5720241",
   "metadata": {},
   "outputs": [
    {
     "name": "stdout",
     "output_type": "stream",
     "text": [
      "Model: quadractic\n",
      " - number of variables: 3\n",
      "   - binary=1, integer=1, continuous=1\n",
      " - number of constraints: 3\n",
      "   - linear=0, quadratic=3\n",
      " - parameters: defaults\n",
      " - objective: none\n",
      " - problem type is: MIQCP\n"
     ]
    }
   ],
   "source": [
    "quadratic_model.print_information()"
   ]
  },
  {
   "cell_type": "code",
   "execution_count": 7,
   "id": "c8ba2ed8-01f6-4ebd-b853-fcf3b52465d2",
   "metadata": {},
   "outputs": [
    {
     "name": "stdout",
     "output_type": "stream",
     "text": [
      "Version identifier: 22.1.1.0 | 2022-11-27 | 9160aff4d\n",
      "CPXPARAM_Read_DataCheck                          1\n",
      "Tried aggregator 1 time.\n",
      "MIQCP Presolve eliminated 1 rows and 4 columns.\n",
      "Reduced MIQCP has 0 rows, 0 columns, and 0 nonzeros.\n",
      "Reduced MIQCP has 0 binaries, 0 generals, 0 SOSs, and 0 indicators.\n",
      "Presolve time = 0.01 sec. (0.00 ticks)\n",
      "MIP emphasis: balance optimality and feasibility.\n",
      "MIP search method: dynamic search.\n",
      "Parallel mode: deterministic, using up to 8 threads.\n",
      "Root relaxation solution time = 0.00 sec. (0.00 ticks)\n",
      "\n",
      "        Nodes                                         Cuts/\n",
      "   Node  Left     Objective  IInf  Best Integer    Best Bound    ItCnt     Gap\n",
      "\n",
      "*     0     0      integral     0        0.0000        0.0000        0    0.00%\n",
      "Elapsed time = 0.01 sec. (0.00 ticks, tree = 0.00 MB, solutions = 1)\n",
      "\n",
      "Root node processing (before b&c):\n",
      "  Real time             =    0.01 sec. (0.00 ticks)\n",
      "Parallel b&c, 8 threads:\n",
      "  Real time             =    0.00 sec. (0.00 ticks)\n",
      "  Sync time (average)   =    0.00 sec.\n",
      "  Wait time (average)   =    0.00 sec.\n",
      "                          ------------\n",
      "Total (root+branch&cut) =    0.01 sec. (0.00 ticks)\n"
     ]
    },
    {
     "data": {
      "text/plain": [
       "docplex.mp.solution.SolveSolution(obj=0,values={x:1,y:2})"
      ]
     },
     "execution_count": 7,
     "metadata": {},
     "output_type": "execute_result"
    }
   ],
   "source": [
    "quadratic_model.solve(log_output=True)"
   ]
  },
  {
   "cell_type": "code",
   "execution_count": 8,
   "id": "7fa099d8-c576-43a0-9761-9925ccb0e244",
   "metadata": {},
   "outputs": [
    {
     "name": "stdout",
     "output_type": "stream",
     "text": [
      "status: OPTIMAL_SOLUTION(2)\n",
      "x=1.000\n",
      "y=2\n"
     ]
    }
   ],
   "source": [
    "quadratic_model.print_solution()"
   ]
  },
  {
   "cell_type": "code",
   "execution_count": null,
   "id": "fb79ef5e-5645-41ed-8e4b-728d8df8bb88",
   "metadata": {},
   "outputs": [],
   "source": []
  }
 ],
 "metadata": {
  "kernelspec": {
   "display_name": "Python 3 (ipykernel)",
   "language": "python",
   "name": "python3"
  },
  "language_info": {
   "codemirror_mode": {
    "name": "ipython",
    "version": 3
   },
   "file_extension": ".py",
   "mimetype": "text/x-python",
   "name": "python",
   "nbconvert_exporter": "python",
   "pygments_lexer": "ipython3",
   "version": "3.9.13"
  }
 },
 "nbformat": 4,
 "nbformat_minor": 5
}
