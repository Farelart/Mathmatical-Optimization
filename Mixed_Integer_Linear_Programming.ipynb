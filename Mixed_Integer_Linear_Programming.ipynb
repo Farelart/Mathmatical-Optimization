{
 "cells": [
  {
   "cell_type": "markdown",
   "id": "ffdfa872-cce9-4a4f-8595-b69e8dc973fb",
   "metadata": {},
   "source": [
    "# 1. Importing Model from docplex package"
   ]
  },
  {
   "cell_type": "code",
   "execution_count": 1,
   "id": "c3e0727b-545b-46ee-96fe-5e8cfda581c6",
   "metadata": {},
   "outputs": [],
   "source": [
    "from docplex.mp.model import Model"
   ]
  },
  {
   "cell_type": "markdown",
   "id": "02eddea5-fd95-4449-8750-98528b8d12ca",
   "metadata": {},
   "source": [
    "# 2. Create an optimization model"
   ]
  },
  {
   "cell_type": "code",
   "execution_count": 2,
   "id": "b683d3eb-24c4-4a13-bd4b-6d7c3e1f8440",
   "metadata": {},
   "outputs": [],
   "source": [
    "milp_model = Model(name = \"MILP\")"
   ]
  },
  {
   "cell_type": "markdown",
   "id": "72e568ef-f019-4f14-92ce-620ad2c2100e",
   "metadata": {},
   "source": [
    "# 3. Add decision variables"
   ]
  },
  {
   "cell_type": "code",
   "execution_count": 3,
   "id": "8440452a-1cd8-4529-bd89-7257adfba039",
   "metadata": {},
   "outputs": [],
   "source": [
    "x = milp_model.binary_var(name = 'x')\n",
    "y = milp_model.continuous_var(name = 'y', lb = 0)\n",
    "z = milp_model.integer_var(name = 'z', lb = 0)"
   ]
  },
  {
   "cell_type": "markdown",
   "id": "e0b61a89-06ba-49c2-827b-6d48957d26aa",
   "metadata": {},
   "source": [
    "# 4. Add the constraints"
   ]
  },
  {
   "cell_type": "code",
   "execution_count": 4,
   "id": "83fb4ecd-22ca-4114-aa7b-cbf2439fb34a",
   "metadata": {},
   "outputs": [],
   "source": [
    "c1 = milp_model.add_constraint(x + 2*y + z <= 4, ctname = \"c1\")\n",
    "c2 = milp_model.add_constraint(2*z + y <= 5, ctname = \"c2\")\n",
    "c1 = milp_model.add_constraint(x + y >= 1, ctname = \"c3\")"
   ]
  },
  {
   "cell_type": "markdown",
   "id": "4adae6b7-88cb-462d-8931-506c684650a5",
   "metadata": {},
   "source": [
    "# 5. Define the objective function"
   ]
  },
  {
   "cell_type": "code",
   "execution_count": 5,
   "id": "bb102299-1e9c-40e2-a889-e0f6832616f9",
   "metadata": {},
   "outputs": [
    {
     "name": "stdout",
     "output_type": "stream",
     "text": [
      "Model: MILP\n",
      " - number of variables: 3\n",
      "   - binary=1, integer=1, continuous=1\n",
      " - number of constraints: 3\n",
      "   - linear=3\n",
      " - parameters: defaults\n",
      " - objective: maximize\n",
      " - problem type is: MILP\n"
     ]
    }
   ],
   "source": [
    "obj_fn = 2*x + y + 3*z\n",
    "milp_model.set_objective('max', obj_fn)\n",
    "milp_model.print_information()"
   ]
  },
  {
   "cell_type": "markdown",
   "id": "fb7e14c3-e6ca-420c-9b97-13278154dadf",
   "metadata": {},
   "source": [
    "# 6. Solve the model"
   ]
  },
  {
   "cell_type": "code",
   "execution_count": 6,
   "id": "7062cef5-d084-4b48-aa68-ab18c4bcd0c3",
   "metadata": {},
   "outputs": [
    {
     "name": "stdout",
     "output_type": "stream",
     "text": [
      "Version identifier: 22.1.1.0 | 2022-11-27 | 9160aff4d\n",
      "CPXPARAM_Read_DataCheck                          1\n",
      "Found incumbent of value 2.000000 after 0.00 sec. (0.00 ticks)\n",
      "Tried aggregator 1 time.\n",
      "MIP Presolve modified 2 coefficients.\n",
      "Reduced MIP has 3 rows, 3 columns, and 7 nonzeros.\n",
      "Reduced MIP has 1 binaries, 1 generals, 0 SOSs, and 0 indicators.\n",
      "Presolve time = 0.00 sec. (0.00 ticks)\n",
      "Probing time = 0.00 sec. (0.00 ticks)\n",
      "Tried aggregator 1 time.\n",
      "MIP Presolve modified 1 coefficients.\n",
      "Reduced MIP has 3 rows, 3 columns, and 7 nonzeros.\n",
      "Reduced MIP has 1 binaries, 1 generals, 0 SOSs, and 0 indicators.\n",
      "Presolve time = 0.00 sec. (0.00 ticks)\n",
      "Probing time = 0.00 sec. (0.00 ticks)\n",
      "MIP emphasis: balance optimality and feasibility.\n",
      "MIP search method: dynamic search.\n",
      "Parallel mode: deterministic, using up to 8 threads.\n",
      "Root relaxation solution time = 0.00 sec. (0.00 ticks)\n",
      "\n",
      "        Nodes                                         Cuts/\n",
      "   Node  Left     Objective  IInf  Best Integer    Best Bound    ItCnt     Gap\n",
      "\n",
      "*     0+    0                            2.0000       10.0000           400.00%\n",
      "*     0+    0                            8.5000       10.0000            17.65%\n",
      "      0     0        cutoff              8.5000        8.5000        1    0.00%\n",
      "      0     0        cutoff              8.5000        8.5000        1    0.00%\n",
      "Elapsed time = 0.02 sec. (0.02 ticks, tree = 0.01 MB, solutions = 1)\n",
      "\n",
      "Root node processing (before b&c):\n",
      "  Real time             =    0.02 sec. (0.02 ticks)\n",
      "Parallel b&c, 8 threads:\n",
      "  Real time             =    0.08 sec. (0.00 ticks)\n",
      "  Sync time (average)   =    0.01 sec.\n",
      "  Wait time (average)   =    0.00 sec.\n",
      "                          ------------\n",
      "Total (root+branch&cut) =    0.09 sec. (0.02 ticks)\n"
     ]
    },
    {
     "data": {
      "text/plain": [
       "docplex.mp.solution.SolveSolution(obj=8.5,values={x:1,y:0.5,z:2})"
      ]
     },
     "execution_count": 6,
     "metadata": {},
     "output_type": "execute_result"
    }
   ],
   "source": [
    "milp_model.solve(log_output = True)"
   ]
  },
  {
   "cell_type": "markdown",
   "id": "6cd029d1-afd4-497a-b5a1-672c4f5277f0",
   "metadata": {},
   "source": [
    "# 7. Output the result"
   ]
  },
  {
   "cell_type": "code",
   "execution_count": 7,
   "id": "c735d308-03a9-40bc-befa-530e05ce4f2d",
   "metadata": {},
   "outputs": [
    {
     "name": "stdout",
     "output_type": "stream",
     "text": [
      "objective: 8.500\n",
      "status: OPTIMAL_SOLUTION(2)\n",
      "  x=1\n",
      "  y=0.500\n",
      "  z=2\n"
     ]
    }
   ],
   "source": [
    "milp_model.print_solution()"
   ]
  }
 ],
 "metadata": {
  "kernelspec": {
   "display_name": "Python 3 (ipykernel)",
   "language": "python",
   "name": "python3"
  },
  "language_info": {
   "codemirror_mode": {
    "name": "ipython",
    "version": 3
   },
   "file_extension": ".py",
   "mimetype": "text/x-python",
   "name": "python",
   "nbconvert_exporter": "python",
   "pygments_lexer": "ipython3",
   "version": "3.9.13"
  }
 },
 "nbformat": 4,
 "nbformat_minor": 5
}
