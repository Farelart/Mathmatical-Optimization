{
 "cells": [
  {
   "cell_type": "markdown",
   "id": "e0b13fe4-8cec-492f-946c-2281587e430f",
   "metadata": {},
   "source": [
    "# 1. Importing docplex package"
   ]
  },
  {
   "cell_type": "code",
   "execution_count": 2,
   "id": "745935a5-f7de-4841-91e3-282d8a7525ef",
   "metadata": {},
   "outputs": [],
   "source": [
    "from docplex.mp.model import Model"
   ]
  },
  {
   "cell_type": "markdown",
   "id": "328135f8-5233-419d-adb4-9f51c8bbc995",
   "metadata": {},
   "source": [
    "# 2. Create an optimization model"
   ]
  },
  {
   "cell_type": "code",
   "execution_count": 3,
   "id": "12fb1795-1ba9-4af3-a6e1-caa1411ea24c",
   "metadata": {},
   "outputs": [],
   "source": [
    "opt_mod = Model(name = \"Linear Program\")"
   ]
  },
  {
   "cell_type": "markdown",
   "id": "b6c19fa6-6e37-4ec1-b7ad-d15009300e37",
   "metadata": {},
   "source": [
    "# 3. Add decision variables"
   ]
  },
  {
   "cell_type": "code",
   "execution_count": 4,
   "id": "572075ac-b420-4f20-b816-edb1481c2e5c",
   "metadata": {},
   "outputs": [],
   "source": [
    "x = opt_mod.continuous_var(name = 'x', lb = 0)\n",
    "y = opt_mod.continuous_var(name = 'y', lb = 0)"
   ]
  },
  {
   "cell_type": "markdown",
   "id": "4fe93744-ad57-419c-98ad-93a86acf7f0d",
   "metadata": {},
   "source": [
    "# 4. Add the constraints"
   ]
  },
  {
   "cell_type": "code",
   "execution_count": 5,
   "id": "d276dfc9-7834-4ff4-97c5-8d8077fbf474",
   "metadata": {},
   "outputs": [],
   "source": [
    "c1 = opt_mod.add_constraint( x + y >= 8, ctname = 'c1')\n",
    "c2 = opt_mod.add_constraint( 2*x + y >= 10, ctname = 'c2')\n",
    "c3 = opt_mod.add_constraint( x + 4*y >= 11, ctname = 'c3')"
   ]
  },
  {
   "cell_type": "markdown",
   "id": "7d58dafb-200b-4562-8cf3-4e6bba352b0c",
   "metadata": {},
   "source": [
    "# 5. Define the objective function"
   ]
  },
  {
   "cell_type": "code",
   "execution_count": 6,
   "id": "19a124ff-46f1-4022-9667-30138bb74181",
   "metadata": {},
   "outputs": [
    {
     "name": "stdout",
     "output_type": "stream",
     "text": [
      "Model: Linear Program\n",
      " - number of variables: 2\n",
      "   - binary=0, integer=0, continuous=2\n",
      " - number of constraints: 3\n",
      "   - linear=3\n",
      " - parameters: defaults\n",
      " - objective: minimize\n",
      " - problem type is: LP\n"
     ]
    }
   ],
   "source": [
    "obj_fn = 5*x + 4*y\n",
    "opt_mod.set_objective('min', obj_fn)\n",
    "\n",
    "opt_mod.print_information()"
   ]
  },
  {
   "cell_type": "markdown",
   "id": "86f5e6c0-dd06-4c0b-a527-78f5a6bde6d7",
   "metadata": {},
   "source": [
    "# 6. Solve the model"
   ]
  },
  {
   "cell_type": "code",
   "execution_count": 11,
   "id": "3505840b-7993-41f2-a947-fd87706226f1",
   "metadata": {},
   "outputs": [
    {
     "name": "stdout",
     "output_type": "stream",
     "text": [
      "Version identifier: 22.1.1.0 | 2022-11-27 | 9160aff4d\n",
      "CPXPARAM_Read_DataCheck                          1\n",
      "Using devex.\n"
     ]
    }
   ],
   "source": [
    "solution = opt_mod.solve(log_output = True)"
   ]
  },
  {
   "cell_type": "code",
   "execution_count": 10,
   "id": "27c462fc-90c5-4b1c-bc9f-7438fd9c0b20",
   "metadata": {},
   "outputs": [
    {
     "name": "stdout",
     "output_type": "stream",
     "text": [
      "objective: 34.000\n",
      "status: OPTIMAL_SOLUTION(2)\n",
      "  x=2.000\n",
      "  y=6.000\n"
     ]
    }
   ],
   "source": [
    "opt_mod.print_solution()"
   ]
  },
  {
   "cell_type": "code",
   "execution_count": 12,
   "id": "8549a303-8fd6-40cc-9a6b-772c899d4f57",
   "metadata": {},
   "outputs": [
    {
     "name": "stdout",
     "output_type": "stream",
     "text": [
      "solution for: Linear Program\n",
      "objective: 34.000\n",
      "status: OPTIMAL_SOLUTION(2)\n",
      "x = 2.000\n",
      "y = 6.000\n"
     ]
    }
   ],
   "source": [
    "solution.display()"
   ]
  },
  {
   "cell_type": "code",
   "execution_count": null,
   "id": "48e4c8fe-954d-4b49-82c9-7e8a7d6d1f03",
   "metadata": {},
   "outputs": [],
   "source": []
  }
 ],
 "metadata": {
  "kernelspec": {
   "display_name": "Python 3 (ipykernel)",
   "language": "python",
   "name": "python3"
  },
  "language_info": {
   "codemirror_mode": {
    "name": "ipython",
    "version": 3
   },
   "file_extension": ".py",
   "mimetype": "text/x-python",
   "name": "python",
   "nbconvert_exporter": "python",
   "pygments_lexer": "ipython3",
   "version": "3.9.13"
  }
 },
 "nbformat": 4,
 "nbformat_minor": 5
}
